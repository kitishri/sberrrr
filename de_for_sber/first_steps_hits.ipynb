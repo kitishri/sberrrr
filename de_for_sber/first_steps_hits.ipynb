{
 "cells": [
  {
   "cell_type": "code",
   "execution_count": 2,
   "id": "46e0bce7-5755-4e64-bd11-2cfcb98a1298",
   "metadata": {},
   "outputs": [],
   "source": [
    "import pandas as pd"
   ]
  },
  {
   "cell_type": "markdown",
   "id": "8d730a36-8b19-4ded-9651-2872b8e8a840",
   "metadata": {},
   "source": [
    "# GA Hits\n",
    "- session_id — ID визита;\n",
    "- hit_date — дата события;\n",
    "- hit_time — время события;\n",
    "- hit_number — порядковый номер события в рамках сессии, последовательность действий;\n",
    "- hit_type — тип события;\n",
    "- hit_referer — источник события, с какой страницы перешел пользователь;\n",
    "- hit_page_path — страница события, на которой произошло событие;\n",
    "- event_category — тип действия;\n",
    "- event_action — действие;\n",
    "- event_label — тег действия;\n",
    "- event_value — значение результата действия, обычно число."
   ]
  },
  {
   "cell_type": "code",
   "execution_count": 3,
   "id": "a200fe87-547d-4f2f-adc4-0c0838ec2c75",
   "metadata": {},
   "outputs": [],
   "source": [
    "df = pd.read_csv(\"C:/Users/Ekaterina/sber_de/de_for_sber/data/raw/ga_hits.csv\")"
   ]
  },
  {
   "cell_type": "code",
   "execution_count": 4,
   "id": "e4283586-c250-430d-ac4c-f855550586d8",
   "metadata": {},
   "outputs": [],
   "source": [
    "pd.set_option('display.max_columns', None)"
   ]
  },
  {
   "cell_type": "code",
   "execution_count": null,
   "id": "fd2c2183-c2eb-4053-a5b8-c72f1c4045b3",
   "metadata": {},
   "outputs": [],
   "source": [
    "df['session_id'].value_counts()\n"
   ]
  },
  {
   "cell_type": "code",
   "execution_count": 5,
   "id": "7d7a1212-7110-494d-b313-0160b60338ae",
   "metadata": {},
   "outputs": [],
   "source": [
    "# Функция для преобразования времени\n",
    "def convert_milliseconds_to_time(ms):\n",
    "    if pd.isna(ms):\n",
    "        return \"00:00:00\"  # Пропуски заполняем дефолтным временем\n",
    "    total_seconds = ms // 1000\n",
    "    hours = total_seconds // 3600\n",
    "    minutes = (total_seconds % 3600) // 60\n",
    "    seconds = total_seconds % 60\n",
    "    return f\"{int(hours):02}:{int(minutes):02}:{int(seconds):02}\"\n",
    "\n",
    "# Преобразуем колонку с учетом NaN\n",
    "df['hit_time_1'] = df['hit_time'].apply(convert_milliseconds_to_time)\n",
    "\n",
    "\n"
   ]
  },
  {
   "cell_type": "code",
   "execution_count": null,
   "id": "ea7137ee-9fe3-447a-90c3-9e23fdc0d0fe",
   "metadata": {},
   "outputs": [],
   "source": [
    "df['hit_date'] = pd.to_datetime(df['hit_date'],  format='%Y-%m-%d')"
   ]
  },
  {
   "cell_type": "code",
   "execution_count": null,
   "id": "51d29e55-2a4d-4e0f-b90f-8aefc4786d23",
   "metadata": {},
   "outputs": [],
   "source": [
    "df['hit_referer'] = df['hit_referer'].fillna('unknown')"
   ]
  },
  {
   "cell_type": "code",
   "execution_count": null,
   "id": "baa5e618-2793-43fc-957d-49f5c3642453",
   "metadata": {},
   "outputs": [],
   "source": [
    "df['event_label'] = df['event_label'].fillna('unknown')"
   ]
  },
  {
   "cell_type": "code",
   "execution_count": null,
   "id": "eea32107-ad04-42f1-93a6-d81a155b0ad1",
   "metadata": {},
   "outputs": [],
   "source": [
    "df['event_value'] = df['event_value'].fillna(0)"
   ]
  },
  {
   "cell_type": "code",
   "execution_count": null,
   "id": "a7a5ce07-2bcc-4c28-845e-42493d434235",
   "metadata": {},
   "outputs": [],
   "source": [
    "print(df.isna().sum())  # Покажет количество настоящих NaN\n"
   ]
  },
  {
   "cell_type": "code",
   "execution_count": null,
   "id": "455152a9-271d-48a8-b3c1-169150255aa5",
   "metadata": {},
   "outputs": [],
   "source": [
    "df.set_index('session_id', inplace=True)\n"
   ]
  },
  {
   "cell_type": "code",
   "execution_count": 8,
   "id": "3668daee-c9f5-4ab2-aab0-f455493c1dcf",
   "metadata": {},
   "outputs": [
    {
     "data": {
      "text/plain": [
       "<DatetimeArray>\n",
       "['1900-01-01 00:09:57', '1900-01-01 00:13:16', '1900-01-01 00:15:34',\n",
       " '1900-01-01 00:12:48', '1900-01-01 00:11:44', '1900-01-01 00:15:11',\n",
       " '1900-01-01 00:17:51', '1900-01-01 00:16:53', '1900-01-01 00:00:00',\n",
       " '1900-01-01 00:00:01',\n",
       " ...\n",
       " '1900-01-01 01:14:32', '1900-01-01 01:19:11', '1900-01-01 01:34:39',\n",
       " '1900-01-01 01:44:51', '1900-01-01 01:14:24', '1900-01-01 01:57:54',\n",
       " '1900-01-01 02:46:52', '1900-01-01 01:30:43', '1900-01-01 03:07:25',\n",
       " '1900-01-01 01:18:10']\n",
       "Length: 6403, dtype: datetime64[ns]"
      ]
     },
     "execution_count": 8,
     "metadata": {},
     "output_type": "execute_result"
    }
   ],
   "source": [
    "df['hit_time_1'].unique()"
   ]
  },
  {
   "cell_type": "code",
   "execution_count": 9,
   "id": "bd9b021d-b849-45bf-9e0b-35424f8bf81e",
   "metadata": {},
   "outputs": [
    {
     "ename": "TypeError",
     "evalue": "to_timedelta() got an unexpected keyword argument 'format'",
     "output_type": "error",
     "traceback": [
      "\u001b[1;31m---------------------------------------------------------------------------\u001b[0m",
      "\u001b[1;31mTypeError\u001b[0m                                 Traceback (most recent call last)",
      "Cell \u001b[1;32mIn[9], line 1\u001b[0m\n\u001b[1;32m----> 1\u001b[0m df[\u001b[38;5;124m'\u001b[39m\u001b[38;5;124mhit_time_1\u001b[39m\u001b[38;5;124m'\u001b[39m] \u001b[38;5;241m=\u001b[39m pd\u001b[38;5;241m.\u001b[39mto_timedelta(df[\u001b[38;5;124m'\u001b[39m\u001b[38;5;124mhit_time_1\u001b[39m\u001b[38;5;124m'\u001b[39m], \u001b[38;5;28mformat\u001b[39m\u001b[38;5;241m=\u001b[39m\u001b[38;5;124m'\u001b[39m\u001b[38;5;124m%\u001b[39m\u001b[38;5;124mH:\u001b[39m\u001b[38;5;124m%\u001b[39m\u001b[38;5;124mM:\u001b[39m\u001b[38;5;124m%\u001b[39m\u001b[38;5;124mS\u001b[39m\u001b[38;5;124m'\u001b[39m)\n",
      "\u001b[1;31mTypeError\u001b[0m: to_timedelta() got an unexpected keyword argument 'format'"
     ]
    }
   ],
   "source": [
    "df['hit_time_1'] = pd.to_timedelta(df['hit_time_1'], format='%H:%M:%S')"
   ]
  },
  {
   "cell_type": "code",
   "execution_count": null,
   "id": "7b44f46a-2477-4ac8-8475-8cb58b07a2f1",
   "metadata": {},
   "outputs": [],
   "source": [
    "df.head(20)"
   ]
  },
  {
   "cell_type": "code",
   "execution_count": null,
   "id": "5b144ff0-e8d4-43cd-8bed-7072ba25b8c7",
   "metadata": {},
   "outputs": [],
   "source": []
  }
 ],
 "metadata": {
  "kernelspec": {
   "display_name": "Python 3 (ipykernel)",
   "language": "python",
   "name": "python3"
  },
  "language_info": {
   "codemirror_mode": {
    "name": "ipython",
    "version": 3
   },
   "file_extension": ".py",
   "mimetype": "text/x-python",
   "name": "python",
   "nbconvert_exporter": "python",
   "pygments_lexer": "ipython3",
   "version": "3.12.7"
  }
 },
 "nbformat": 4,
 "nbformat_minor": 5
}
